{
  "nbformat": 4,
  "nbformat_minor": 0,
  "metadata": {
    "colab": {
      "name": "EDA-Hotel booking Q1.ipynb",
      "provenance": [],
      "authorship_tag": "ABX9TyMob9bYTWTsKMY1c223Y+36",
      "include_colab_link": true
    },
    "kernelspec": {
      "name": "python3",
      "display_name": "Python 3"
    },
    "language_info": {
      "name": "python"
    }
  },
  "cells": [
    {
      "cell_type": "markdown",
      "metadata": {
        "id": "view-in-github",
        "colab_type": "text"
      },
      "source": [
        "<a href=\"https://colab.research.google.com/github/nkarthikn95/EDA-Hotel-Bookings-Capstone-project1/blob/main/EDA_Hotel_booking_Q1.ipynb\" target=\"_parent\"><img src=\"https://colab.research.google.com/assets/colab-badge.svg\" alt=\"Open In Colab\"/></a>"
      ]
    },
    {
      "cell_type": "code",
      "execution_count": null,
      "metadata": {
        "id": "5Z3rNp2dCQBp"
      },
      "outputs": [],
      "source": [
        "import numpy as np \n",
        "import pandas as pd"
      ]
    },
    {
      "cell_type": "code",
      "source": [
        "from google.colab import drive\n",
        "drive.mount('/content/drive')"
      ],
      "metadata": {
        "colab": {
          "base_uri": "https://localhost:8080/"
        },
        "id": "0wfnKehwChN6",
        "outputId": "34f788e1-d916-40f0-9321-413b4d50d8e2"
      },
      "execution_count": null,
      "outputs": [
        {
          "output_type": "stream",
          "name": "stdout",
          "text": [
            "Mounted at /content/drive\n"
          ]
        }
      ]
    },
    {
      "cell_type": "code",
      "source": [
        "file_path = '/content/drive/MyDrive/Hotel Bookings.csv'\n",
        "df=pd.read_csv(file_path)"
      ],
      "metadata": {
        "id": "8vsl7W-hD4LQ"
      },
      "execution_count": null,
      "outputs": []
    },
    {
      "cell_type": "code",
      "source": [
        "df['arrival_date_month'].value_counts()"
      ],
      "metadata": {
        "colab": {
          "base_uri": "https://localhost:8080/"
        },
        "id": "HRgLgWt6Fyqa",
        "outputId": "cb56e8d0-f0b7-4124-f2a9-277d582e7806"
      },
      "execution_count": null,
      "outputs": [
        {
          "output_type": "execute_result",
          "data": {
            "text/plain": [
              "August       13877\n",
              "July         12661\n",
              "May          11791\n",
              "October      11160\n",
              "April        11089\n",
              "June         10939\n",
              "September    10508\n",
              "March         9794\n",
              "February      8068\n",
              "November      6794\n",
              "December      6780\n",
              "January       5929\n",
              "Name: arrival_date_month, dtype: int64"
            ]
          },
          "metadata": {},
          "execution_count": 25
        }
      ]
    },
    {
      "cell_type": "code",
      "source": [
        "#BEST TIME OF THE YEAR TO BOOK A HOTEL\n",
        "\n",
        "#SORT THE MONTHS, HOTEL  WITH MAXIMUM BOOKING\n",
        "#ADR WITH THE PREVIOUS CHART \n",
        "#VISUALIZATION -: x-AXIS: MONTH, y-AXIS: # OF BOOKING, BAR CHART  \n",
        "\n",
        "df1=df[df['arrival_date_month']=='July']\n",
        "print(df1.count())"
      ],
      "metadata": {
        "colab": {
          "base_uri": "https://localhost:8080/"
        },
        "id": "nUWtXHseGONr",
        "outputId": "ffdc2043-3850-47b2-fbd2-caed3c52cb7d"
      },
      "execution_count": null,
      "outputs": [
        {
          "output_type": "stream",
          "name": "stdout",
          "text": [
            "hotel                             12661\n",
            "is_canceled                       12661\n",
            "lead_time                         12661\n",
            "arrival_date_year                 12661\n",
            "arrival_date_month                12661\n",
            "arrival_date_week_number          12661\n",
            "arrival_date_day_of_month         12661\n",
            "stays_in_weekend_nights           12661\n",
            "stays_in_week_nights              12661\n",
            "adults                            12661\n",
            "children                          12661\n",
            "babies                            12661\n",
            "meal                              12661\n",
            "country                           12628\n",
            "market_segment                    12661\n",
            "distribution_channel              12661\n",
            "is_repeated_guest                 12661\n",
            "previous_cancellations            12661\n",
            "previous_bookings_not_canceled    12661\n",
            "reserved_room_type                12661\n",
            "assigned_room_type                12661\n",
            "booking_changes                   12661\n",
            "deposit_type                      12661\n",
            "agent                             11604\n",
            "company                             300\n",
            "days_in_waiting_list              12661\n",
            "customer_type                     12661\n",
            "adr                               12661\n",
            "required_car_parking_spaces       12661\n",
            "total_of_special_requests         12661\n",
            "reservation_status                12661\n",
            "reservation_status_date           12661\n",
            "dtype: int64\n"
          ]
        }
      ]
    }
  ]
}